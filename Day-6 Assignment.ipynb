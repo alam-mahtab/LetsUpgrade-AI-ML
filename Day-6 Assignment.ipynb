{
 "cells": [
  {
   "cell_type": "markdown",
   "metadata": {},
   "source": [
    "# Solution Of Day-6 Assignment"
   ]
  },
  {
   "cell_type": "markdown",
   "metadata": {},
   "source": [
    "1. Write a program which takes email as input in form of username@company.com and return company name"
   ]
  },
  {
   "cell_type": "code",
   "execution_count": 1,
   "metadata": {},
   "outputs": [
    {
     "name": "stdout",
     "output_type": "stream",
     "text": [
      "Please Enter Your Email Address: darshan@letsupgrade.com\n",
      "letsupgrade\n"
     ]
    }
   ],
   "source": [
    "email = input(\"Please Enter Your Email Address: \") # It will take input from user\n",
    "str = email.split(\"@\") # It splits the input from @ deliminator\n",
    "cname = str[1].split(\".\") # It will further split the index 1 item from . deliminator\n",
    "print(cname[0]) # it will print the desired Output"
   ]
  },
  {
   "cell_type": "markdown",
   "metadata": {},
   "source": [
    "2. Write a program that accepts a comma-separated sequence of words as input and prints the words in a\n",
    "comma-separated sequence after sorting them alphabetically."
   ]
  },
  {
   "cell_type": "code",
   "execution_count": 2,
   "metadata": {},
   "outputs": [
    {
     "name": "stdout",
     "output_type": "stream",
     "text": [
      "Enter comma separated words: without,bag,hello,world,bat,cnet\n",
      "bag,bat,cnet,hello,without,world\n"
     ]
    }
   ],
   "source": [
    "str = input(\"Enter comma separated words: \") # # It will take input from user\n",
    "str1 = str.split(\",\") # It will split all the input from , and save it in a list\n",
    "str2 = sorted(str1) # It will sort the list alphabetically\n",
    "str3 = ','. join(str2) # It will take list and change it to words in a comma separeted sequence\n",
    "print(str3) # Gives the desired result"
   ]
  },
  {
   "cell_type": "markdown",
   "metadata": {},
   "source": [
    "3. Jupyter Notebook for Sets"
   ]
  },
  {
   "cell_type": "markdown",
   "metadata": {},
   "source": [
    "# Sets\n",
    "#### A set is a collection which is unordered and unindexed. In Python sets are written with curly brackets. Sets are unordered, so you cannot be sure in which order the items will appear."
   ]
  },
  {
   "cell_type": "code",
   "execution_count": 5,
   "metadata": {},
   "outputs": [
    {
     "name": "stdout",
     "output_type": "stream",
     "text": [
      "{'Mahtab', 'Alam', 'Azhar', 'Darshan'}\n",
      "{'Assam', 'Bihar', 'Delhi', 'Punjab'}\n",
      "USA\n",
      "India\n",
      "Brazil\n",
      "UAE\n",
      "True\n",
      "{'India', 'UAE', 'USA', 'Brazil', 'ingle'}\n",
      "7\n",
      "{'a', 'b', 1, 2, 3, 'c'}\n",
      "None\n"
     ]
    }
   ],
   "source": [
    "sets = {\"Alam\", \"Mahtab\",\"Azhar\", \"Darshan\"} # craeting a set\n",
    "print(sets)\n",
    "setcons = set((\"Delhi\",\"Bihar\",\"Assam\",\"Punjab\")) # This will also create a set known as set constructor\n",
    "print(setcons)\n",
    "\"\"\"Access Items\n",
    "You cannot access items in a set by referring to an index or a key.\n",
    "\n",
    "But you can loop through the set items using a for loop, or ask if a specified value is present in a set, by using the in keyword.\"\"\"\n",
    "set1 = {\"India\",\"USA\",\"Brazil\",\"UAE\"}\n",
    "for i in set1:\n",
    "    print(i)\n",
    "    \n",
    "print(\"Darshan\" in sets) # Return True if item is present in set\n",
    "\n",
    "set1.add(\"ingle\") # .add() is used to add item in list\n",
    "print(set1)\n",
    "sets.update([\"Sri\",\"sheikh\",\"Sanmeet\"]) # .update() will add more than one items in set\n",
    "\n",
    "print(len(sets)) #len() will give length of the set\n",
    "\n",
    "sets.remove(\"Azhar\") # this will remove item but if item is not present remove will create an error\n",
    "sets.discard(\"Mahtab\") # This will discard item without throwing an error\n",
    "sets.pop()             # this will remove last item of the set\n",
    "sets.clear()           # This will clear the set\n",
    "del sets               # This will delete the entire set\n",
    "\n",
    "set1 = {\"a\", \"b\" , \"c\"}\n",
    "set2 = {1, 2, 3}\n",
    "\n",
    "set3 = set1.union(set2) # The union() method returns a new set with all items from both sets:\n",
    "print(set3)\n",
    "print(set1.update(set2))       # The update() method inserts the items in set2 into set1:\n",
    "\n"
   ]
  },
  {
   "cell_type": "markdown",
   "metadata": {},
   "source": [
    "4. Write a program to find the missing number."
   ]
  },
  {
   "cell_type": "code",
   "execution_count": 6,
   "metadata": {},
   "outputs": [
    {
     "name": "stdout",
     "output_type": "stream",
     "text": [
      "Enter a list elements separated by space 1 2 4 6 3 7 9 8\n",
      "user list is  ['1', '2', '4', '6', '3', '7', '9', '8']\n",
      "User List is  [1, 2, 4, 6, 3, 7, 9, 8]\n",
      "The missing number is 5\n"
     ]
    }
   ],
   "source": [
    "# Find the missing number in the given list\n",
    "def getMissingNumber(numberList):\n",
    "\n",
    "\t# actual size is list's length + 1 since a number is missing from the list\n",
    "\tm = len(numberList) + 1\n",
    "\n",
    "\t# get sum of integers between 1 to list's length + 1\n",
    "\ttotal = m * (m + 1) // 2\n",
    "\n",
    "\t# the missing number is the difference between the expected sum and\n",
    "\t# the actual sum  of integers in the list\n",
    "\treturn total - sum(numberList)\n",
    "\n",
    "\n",
    "if __name__ == '__main__':\n",
    "\n",
    "  input_string = input(\"Enter a list elements separated by space \") # Takes input as string\n",
    "  numberList = [] # Vacant list\n",
    "  \n",
    "  userList = input_string.split() # splitting the user's input and saving it in userist as sring\n",
    "  print(\"user list is \", userList)\n",
    "  for num in userList: # iterate over userList\n",
    "    item = int(num) # Changing the type from string to int\n",
    "    numberList.append(item) # appending the changed value in numberList\n",
    "  print(\"User List is \", numberList)\n",
    "  print(\"The missing number is\", getMissingNumber(numberList)) # Gives the desired output\n",
    "     # Drawback is it will only give the answer when only one value is missing, for more than one value we cannnot use this program\n",
    "\n",
    "\n"
   ]
  },
  {
   "cell_type": "markdown",
   "metadata": {},
   "source": [
    "5. Write a program to print this list L after removing all duplicate values with original order\n",
    "reserved."
   ]
  },
  {
   "cell_type": "code",
   "execution_count": 7,
   "metadata": {},
   "outputs": [
    {
     "name": "stdout",
     "output_type": "stream",
     "text": [
      "Enter a list elements separated by space 11 23 34 23 55 65 34 65 76\n",
      "[11, 23, 34, 55, 65, 76]\n"
     ]
    }
   ],
   "source": [
    "# Find and remove duplicate values\n",
    "def Remove(duplicate): \n",
    "    final_list = [] # The list we want\n",
    "    for num in duplicate: # itearte through input\n",
    "        if num not in final_list: \n",
    "            final_list.append(num) # Appending the final list if item is not present in the list\n",
    "    return final_list # Returning the desired list  \n",
    "\n",
    "\n",
    "if __name__ == '__main__':\n",
    "\n",
    "  input_string = input(\"Enter a list elements separated by space \") # Taking input from user as string\n",
    "  duplicate = [] # Blank list where input will saved after processing\n",
    "  \n",
    "  userList = input_string.split() # splitting the input by space \n",
    "  for num in userList: # Iteraing throgh splitted value\n",
    "    item = int(num)    # Changing from sring to integers\n",
    "    duplicate.append(item) # Appending to the blank list\n",
    "  print(Remove(duplicate)) # It will print the desired result"
   ]
  },
  {
   "cell_type": "code",
   "execution_count": null,
   "metadata": {},
   "outputs": [],
   "source": []
  }
 ],
 "metadata": {
  "kernelspec": {
   "display_name": "Python 3",
   "language": "python",
   "name": "python3"
  },
  "language_info": {
   "codemirror_mode": {
    "name": "ipython",
    "version": 3
   },
   "file_extension": ".py",
   "mimetype": "text/x-python",
   "name": "python",
   "nbconvert_exporter": "python",
   "pygments_lexer": "ipython3",
   "version": "3.7.6"
  }
 },
 "nbformat": 4,
 "nbformat_minor": 4
}
