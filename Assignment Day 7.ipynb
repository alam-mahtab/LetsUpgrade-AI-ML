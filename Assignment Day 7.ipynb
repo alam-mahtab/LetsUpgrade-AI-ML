{
 "cells": [
  {
   "cell_type": "markdown",
   "metadata": {},
   "source": [
    "# Assignment Day 7"
   ]
  },
  {
   "cell_type": "markdown",
   "metadata": {},
   "source": [
    "1. Write a program to copy the contents of one file to another using a for loop. (Don’t use built-in copy\n",
    "function)"
   ]
  },
  {
   "cell_type": "code",
   "execution_count": null,
   "metadata": {},
   "outputs": [],
   "source": [
    "f  = open('bcd.txt', 'w')\n",
    "f.write(\"Now the file has more content!\")\n",
    "f.write( \"\\nWoops! I have deleted the content!\")\n",
    "f.close()\n",
    "\n",
    "# open file in read mode \n",
    "fn = open('bcd.txt', 'r') \n",
    "  \n",
    "# open other file in write mode \n",
    "fn1 = open('nfile.txt', 'w') \n",
    "  \n",
    "# read the content of the file line by line \n",
    "cont = fn.readlines() \n",
    "type(cont) \n",
    "for i in range(0, len(cont)): \n",
    "  fn1.write(cont[i])\n",
    "  \n",
    "# close the file \n",
    "fn1.close() \n",
    "  \n",
    "# open file in read mode \n",
    "fn1 = open('nfile.txt', 'r') \n",
    "  \n",
    "# read the content of the file \n",
    "cont1 = fn1.read() \n",
    "  \n",
    "# print the content of the file \n",
    "print(cont1) \n",
    "  \n",
    "# close all files \n",
    "fn.close() \n",
    "fn1.close()"
   ]
  },
  {
   "cell_type": "markdown",
   "metadata": {},
   "source": [
    "2. Write a Python program to find maximum and minimum values in the dictionary. Do not use built-in min\n",
    "and max functions."
   ]
  },
  {
   "cell_type": "code",
   "execution_count": 8,
   "metadata": {},
   "outputs": [
    {
     "name": "stdout",
     "output_type": "stream",
     "text": [
      "Minimum value is at : Mercury\n",
      "Maximum value is at : Pluto\n"
     ]
    }
   ],
   "source": [
    "test_dict = {\"Uranus\":[2750, 3000, 2880], \"Mercury\":[46, 70, 57], \"Earth\":[147, 152, 150], \"Venus\":[107, 109, 108], \"Mars\":[205, 249, 228], \"Saturn\":[1350, 1510, 1430], \"Jupiter\":[741, 817, 779], \"Pluto\":[4440, 7380, 5910], \"Neptune\":[4450, 4550, 4500]}\n",
    "\n",
    "list_sol = list(test_dict.items()) # We have to turn dictionary into a list of tuples. The [0] part of the tuple will have the key, [1] will have the value\n",
    "\n",
    "\n",
    "list_sol.sort(key = lambda x: x[1][0]) #Sort the internal lists using lambda function\n",
    "print(\"Minimum value is at : \" + list_sol[0][0] ) # Printing the minimum \n",
    "list_sol.sort(key = lambda x: x[1][-1]) # we sorted this list looking at the first element of each list of distances, which is the shortest one. We have to do the same with the largest one.\n",
    "print(\"Maximum value is at : \" + list_sol[-1][0] ) # Gives the Maximum Value"
   ]
  },
  {
   "cell_type": "code",
   "execution_count": null,
   "metadata": {},
   "outputs": [],
   "source": []
  }
 ],
 "metadata": {
  "kernelspec": {
   "display_name": "Python 3",
   "language": "python",
   "name": "python3"
  },
  "language_info": {
   "codemirror_mode": {
    "name": "ipython",
    "version": 3
   },
   "file_extension": ".py",
   "mimetype": "text/x-python",
   "name": "python",
   "nbconvert_exporter": "python",
   "pygments_lexer": "ipython3",
   "version": "3.7.6"
  }
 },
 "nbformat": 4,
 "nbformat_minor": 4
}
