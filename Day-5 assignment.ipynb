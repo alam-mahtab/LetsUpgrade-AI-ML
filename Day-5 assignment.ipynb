{
 "cells": [
  {
   "cell_type": "markdown",
   "metadata": {},
   "source": [
    "# Day-5 Assignment Solutions"
   ]
  },
  {
   "cell_type": "markdown",
   "metadata": {},
   "source": [
    "1. Program to print first 20 non-even prime naural numbers"
   ]
  },
  {
   "cell_type": "code",
   "execution_count": 1,
   "metadata": {},
   "outputs": [
    {
     "name": "stdout",
     "output_type": "stream",
     "text": [
      "first 20 non-even Prime numbers are:\n",
      "3\n",
      "5\n",
      "7\n",
      "11\n",
      "13\n",
      "17\n",
      "19\n",
      "23\n",
      "29\n",
      "31\n",
      "37\n",
      "41\n",
      "43\n",
      "47\n",
      "53\n",
      "59\n",
      "61\n",
      "67\n",
      "71\n",
      "73\n"
     ]
    }
   ],
   "source": [
    "print(\"first 20 non-even Prime numbers are:\")\n",
    "\n",
    "for num in range(1, 75):\n",
    "   # all prime numbers are greater than 1\n",
    "   # 73 is the 20th non-even prime number\n",
    "   if num > 1:\n",
    "       for i in range(2, num):\n",
    "           if (num % i) == 0:\n",
    "               break\n",
    "       else:\n",
    "         if (num % 2) ==0:\n",
    "           continue\n",
    "         else:\n",
    "          print(num)"
   ]
  },
  {
   "cell_type": "markdown",
   "metadata": {},
   "source": [
    "2. Program to implement 15 functions of a string"
   ]
  },
  {
   "cell_type": "code",
   "execution_count": 3,
   "metadata": {},
   "outputs": [
    {
     "name": "stdout",
     "output_type": "stream",
     "text": [
      "11\n",
      "Alam\n",
      "mahtab xave\n",
      "MAHTAB XAVE\n",
      "Alam\n",
      "ALAM\n",
      "Mahtab Xave\n",
      "False\n",
      "3\n",
      "True\n",
      "True\n",
      "True\n",
      "['Mahtab', 'Xave']\n",
      "b'Mahtab Xave'\n",
      "('', 'al', 'am')\n"
     ]
    }
   ],
   "source": [
    "str1 = \"Mahtab Xave\"\n",
    "str2 = \"alam\"\n",
    "a = len(str1) #Python String length can be determined by using built-in len() function.\n",
    "print(a)\n",
    "b = str2.capitalize() # Converts the first character to upper case\n",
    "print(b)\n",
    "c = str1.casefold() # Converts string into lower case\n",
    "print(c)\n",
    "d = str1.upper() #Converts string into upper case\n",
    "print(d)\n",
    "e= str2.title() #Converts the first character of each word to upper case\n",
    "print(e)\n",
    "f = str2.swapcase() # Swaps cases, lower case becomes upper case and vice versa\n",
    "print(f)\n",
    "g = str1.zfill(2) # Fills the string with a specified number of 0 values at the beginning\n",
    "print(g)\n",
    "h = str2.istitle() # Returns True if the string follows the rules of a title\n",
    "print(h)\n",
    "i = str1.count(\"a\") # Returns a centered string\n",
    "print(i)\n",
    "j = str1.endswith(\"e\") # Returns true if the string ends with the specified value\n",
    "print(j)\n",
    "k = str2.isalpha() # \tReturns True if all characters in the string are in the alphabet\n",
    "print(k)\n",
    "l = str2.startswith(\"a\") # Returns true if the string starts with the specified value\n",
    "print(l)\n",
    "m= str1.split() # \tSplits the string at the specified separator, and returns a list\n",
    "print(m)\n",
    "n = str1.encode() # Returns an encoded version of the string\n",
    "print(n)\n",
    "o = str2.partition(\"al\") # Returns a tuple where the string is parted into three parts\n",
    "print(o)\n"
   ]
  },
  {
   "cell_type": "markdown",
   "metadata": {},
   "source": [
    "3. Program to check that a given string is palindrome or anagram or none"
   ]
  },
  {
   "cell_type": "code",
   "execution_count": 4,
   "metadata": {},
   "outputs": [
    {
     "name": "stdout",
     "output_type": "stream",
     "text": [
      "Enter a string:mahtab\n",
      "Enter another string:batmah\n",
      "String1 is not a palindrome\n",
      "String2 is not a palindrome\n",
      "The strings are anagrams.\n"
     ]
    }
   ],
   "source": [
    "string1=input((\"Enter a string:\"))\n",
    "string2 = input((\"Enter another string:\"))\n",
    "if(string1==string1[::-1]):\n",
    "      print(\"The string1 is a palindrome\")\n",
    "else:\n",
    "      print(\"String1 is not a palindrome\")\n",
    "\n",
    "if(string2==string2[::-1]):\n",
    "      print(\"The string2 is a palindrome\")\n",
    "else:\n",
    "      print(\"String2 is not a palindrome\")\n",
    "\n",
    "# anagram or not  \n",
    "def check(string1, string2): \n",
    "      \n",
    "    # the sorted strings are checked  \n",
    "    if(sorted(string1)== sorted(string2)): \n",
    "        print(\"The strings are anagrams.\")  \n",
    "    else: \n",
    "        print(\"The strings aren't anagrams.\")    \n",
    "check(string1,string2)"
   ]
  },
  {
   "cell_type": "markdown",
   "metadata": {},
   "source": [
    "4. Program to write a user defined fuction which removes all the additional characters from string and convert it into lower order"
   ]
  },
  {
   "cell_type": "code",
   "execution_count": 5,
   "metadata": {},
   "outputs": [
    {
     "name": "stdout",
     "output_type": "stream",
     "text": [
      "Please enter a string:Dr. Darshan Ingle @AiMl Trainer\n",
      "drdarshaningleaimltrainer\n"
     ]
    }
   ],
   "source": [
    "str = input(\"Please enter a string:\")\n",
    "def removechar(str):\n",
    "  str1= str.lower()\n",
    "  str2 =\"\"\n",
    "  for character in str1:\n",
    "    if character.isalnum():\n",
    "       str2 += character\n",
    "  print(str2)\n",
    "  return \n",
    "  \n",
    "removechar(str)"
   ]
  },
  {
   "cell_type": "markdown",
   "metadata": {},
   "source": [
    "Apart from that if we use regex for the 4th question we can get the desired result in less lines of code.\n",
    "The code is here."
   ]
  },
  {
   "cell_type": "code",
   "execution_count": 6,
   "metadata": {},
   "outputs": [
    {
     "name": "stdout",
     "output_type": "stream",
     "text": [
      "Enter a string: Dr.Darshan Ingle @AiMl Trainer\n",
      "drdarshaningleaimltrainer\n"
     ]
    }
   ],
   "source": [
    "import re\n",
    "s = input(\"Enter a string: \")\n",
    "s = re.sub(r\"[^a-z0-9]\",\"\",s.lower())\n",
    "print(s)"
   ]
  },
  {
   "cell_type": "code",
   "execution_count": null,
   "metadata": {},
   "outputs": [],
   "source": []
  }
 ],
 "metadata": {
  "kernelspec": {
   "display_name": "Python 3",
   "language": "python",
   "name": "python3"
  },
  "language_info": {
   "codemirror_mode": {
    "name": "ipython",
    "version": 3
   },
   "file_extension": ".py",
   "mimetype": "text/x-python",
   "name": "python",
   "nbconvert_exporter": "python",
   "pygments_lexer": "ipython3",
   "version": "3.7.6"
  }
 },
 "nbformat": 4,
 "nbformat_minor": 4
}
