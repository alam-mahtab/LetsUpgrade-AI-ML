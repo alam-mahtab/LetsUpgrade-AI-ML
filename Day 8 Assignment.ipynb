{
 "cells": [
  {
   "cell_type": "markdown",
   "metadata": {},
   "source": [
    "# Day 8 Assignment\n"
   ]
  },
  {
   "cell_type": "markdown",
   "metadata": {},
   "source": [
    "1.Recreate “NB 21 map, filter, lambda.ipynb” to try different variations or perform different calculations from\n",
    "the ones that are in the NB"
   ]
  },
  {
   "cell_type": "markdown",
   "metadata": {},
   "source": [
    "\n",
    "map(), filter() and reduce() are built-in functions of Python.\n",
    "\n",
    "These functions enable the functional programming aspect of Python.\n",
    "\n",
    "In Functional Programming, the arguments passed are the only factors that decide upon the output.\n",
    "\n",
    "These functions can take any other function as a parameter and can be supplied to other functions as parameters as well.\n",
    "\n",
    "map()-\n",
    "It applies the given function to all iterables and returns a new list.\n",
    "\n",
    "SYNTAX:\n",
    "\n",
    "map(function, iterables)"
   ]
  },
  {
   "cell_type": "code",
   "execution_count": 1,
   "metadata": {},
   "outputs": [
    {
     "name": "stdout",
     "output_type": "stream",
     "text": [
      "14\n"
     ]
    }
   ],
   "source": [
    "# map(function, iterables)\n",
    "def func(a):\n",
    "    return a+a \n",
    "x= func(7)\n",
    "print(x)"
   ]
  },
  {
   "cell_type": "code",
   "execution_count": 2,
   "metadata": {},
   "outputs": [
    {
     "name": "stdout",
     "output_type": "stream",
     "text": [
      "<map object at 0x00000250D8838F48>\n",
      "<class 'map'>\n",
      "[10, 12, 14, 16]\n"
     ]
    }
   ],
   "source": [
    "# map(function, iterables)\n",
    "def func(a):\n",
    "    return a+a\n",
    "# your code goes here2\n",
    "x = map(func,[5,6,7,8])\n",
    "print(x)\n",
    "print(type(x))\n",
    "print(list(x))\n",
    "# print(tuple(x))\n",
    "# print(set(x))"
   ]
  },
  {
   "cell_type": "code",
   "execution_count": 4,
   "metadata": {},
   "outputs": [
    {
     "name": "stdout",
     "output_type": "stream",
     "text": [
      "[3, 7, 11, 15]\n"
     ]
    }
   ],
   "source": [
    "def func(a,b):\n",
    "    return a+b\n",
    "# your code goes here3\n",
    "x = map(func, [1,2,3,4], [2,5,8,11] )\n",
    "print(list(x))"
   ]
  },
  {
   "cell_type": "code",
   "execution_count": 6,
   "metadata": {},
   "outputs": [
    {
     "name": "stdout",
     "output_type": "stream",
     "text": [
      "[3, 7, 11, 15]\n"
     ]
    }
   ],
   "source": [
    "# map(function, iterables)\n",
    "def func(a,b):\n",
    "    return a+b\n",
    "# your code goes here3\n",
    "print(list(map(func, [1,2,3,4], [2,5,8,11] )))\n"
   ]
  },
  {
   "cell_type": "markdown",
   "metadata": {},
   "source": [
    "Lambda functions\n",
    "Everything in the world of programming requires a name, but there still there are a few ananymous mysteries. Lambda functions or Lambda expressions are one of these kind of entities that are nameless.\n",
    "\n",
    "They are the functions that do not have any name.\n",
    "\n",
    "We also call them as anonymous or nameless functions.\n",
    "\n",
    "They are generally provided as input to other functions.\n",
    "\n",
    "Lambda functions are single line functions. Therefore we have to provide the expression along with the function itself.\n",
    "\n",
    "Note: 'lambda' is not a name, it s a keyword.\n",
    "\n",
    "Use of lambda functions:\n",
    "\n",
    "One time use: They are used in places where we know that the function will be required just once. Therefore, lambda functions are also called as throw away functions.\n",
    "\n",
    "Input/Output to other functions: They are also passed as inputs or returned as outputs of other higher-order functions.\n",
    "\n",
    "Reduce Code size: The body of lambda functions is written in a single line.\n",
    "\n",
    "SYNTAX:\n",
    "\n",
    "lambda arguments: expression"
   ]
  },
  {
   "cell_type": "code",
   "execution_count": 7,
   "metadata": {},
   "outputs": [
    {
     "data": {
      "text/plain": [
       "6"
      ]
     },
     "execution_count": 7,
     "metadata": {},
     "output_type": "execute_result"
    }
   ],
   "source": [
    "# without lambda\n",
    "def func(a):\n",
    "    return a+a\n",
    "\n",
    "func(3)"
   ]
  },
  {
   "cell_type": "code",
   "execution_count": 8,
   "metadata": {},
   "outputs": [
    {
     "data": {
      "text/plain": [
       "16"
      ]
     },
     "execution_count": 8,
     "metadata": {},
     "output_type": "execute_result"
    }
   ],
   "source": [
    "# with lambda\n",
    "x = lambda a: a+a\n",
    "x(8)\n"
   ]
  },
  {
   "cell_type": "code",
   "execution_count": 10,
   "metadata": {},
   "outputs": [
    {
     "name": "stdout",
     "output_type": "stream",
     "text": [
      "<function func.<locals>.<lambda> at 0x00000250D8817A68>\n",
      "12\n"
     ]
    }
   ],
   "source": [
    "# lambda within user defined functions\n",
    "def func(x):\n",
    "    return lambda y: x*y\n",
    "t = func(3)\n",
    "print(t)\n",
    "print(t(4))"
   ]
  },
  {
   "cell_type": "code",
   "execution_count": 11,
   "metadata": {},
   "outputs": [
    {
     "name": "stdout",
     "output_type": "stream",
     "text": [
      "Hi from mno\n"
     ]
    }
   ],
   "source": [
    "def mno():\n",
    "    print(\"Hi from mno\")\n",
    "mno()"
   ]
  },
  {
   "cell_type": "code",
   "execution_count": 12,
   "metadata": {},
   "outputs": [
    {
     "data": {
      "text/plain": [
       "9"
      ]
     },
     "execution_count": 12,
     "metadata": {},
     "output_type": "execute_result"
    }
   ],
   "source": [
    "# Solving Algebraic expressions using lambda\n",
    "# LINEAR EQUATIONS\n",
    "# Snippet 1:\n",
    "x = lambda a: a+2*a\n",
    "x(3)"
   ]
  },
  {
   "cell_type": "code",
   "execution_count": 13,
   "metadata": {},
   "outputs": [
    {
     "data": {
      "text/plain": [
       "30"
      ]
     },
     "execution_count": 13,
     "metadata": {},
     "output_type": "execute_result"
    }
   ],
   "source": [
    "# Solving Algebraic expressions using lambda\n",
    "# LINEAR EQUATIONS\n",
    "# Snippet 2: 5x+3y\n",
    "y = lambda x,y: (5*x)*(3*y)\n",
    "y(1,2)"
   ]
  },
  {
   "cell_type": "code",
   "execution_count": 14,
   "metadata": {},
   "outputs": [
    {
     "name": "stdout",
     "output_type": "stream",
     "text": [
      "55\n"
     ]
    }
   ],
   "source": [
    "# Solving Algebraic expressions using lambda\n",
    "# QUADRATIC EQUATIONS\n",
    "# Snippet 1: (a+b)^2\n",
    "z = lambda x,y: (x+y)*11\n",
    "print(z(2,3))"
   ]
  },
  {
   "cell_type": "code",
   "execution_count": 15,
   "metadata": {},
   "outputs": [
    {
     "name": "stdout",
     "output_type": "stream",
     "text": [
      "[21, 22, 23, 24]\n"
     ]
    }
   ],
   "source": [
    "# Use lambda functions along with map function\n",
    "l = [11,12,13,14]\n",
    "x = map(lambda x: x+10,l)\n",
    "print(list(x))"
   ]
  },
  {
   "cell_type": "code",
   "execution_count": 16,
   "metadata": {},
   "outputs": [
    {
     "name": "stdout",
     "output_type": "stream",
     "text": [
      "[24, 25, 26, 27]\n"
     ]
    }
   ],
   "source": [
    "# Lets further shorten the above code\n",
    "l = [11,12,13,14]\n",
    "x = list(map(lambda x: x+13,l))\n",
    "print(x)\n"
   ]
  },
  {
   "cell_type": "markdown",
   "metadata": {},
   "source": [
    "\n",
    "filter()\n",
    "It is used to filter the given iterables with the help of another function passed as an argument to test all the elements to be True or False.\n",
    "\n",
    "SYNTAX:\n",
    "\n",
    "filter(function, iterables)"
   ]
  },
  {
   "cell_type": "code",
   "execution_count": 18,
   "metadata": {},
   "outputs": [
    {
     "name": "stdout",
     "output_type": "stream",
     "text": [
      "<filter object at 0x00000250D88DCCC8>\n",
      "<class 'filter'>\n",
      "[5, 6, 7]\n"
     ]
    }
   ],
   "source": [
    "# filter(function, iterables)\n",
    "def abc(a):\n",
    "    if a>=5:\n",
    "        return a\n",
    "# your code goes here1.2\n",
    "x = filter( abc, [4,5,6,7] )\n",
    "print(x)\n",
    "print(type(x))\n",
    "print(list(x))"
   ]
  },
  {
   "cell_type": "code",
   "execution_count": 19,
   "metadata": {},
   "outputs": [
    {
     "name": "stdout",
     "output_type": "stream",
     "text": [
      "[5, 6, 7]\n"
     ]
    }
   ],
   "source": [
    "l = [4,5,6,7]\n",
    "# your code goes here1.3\n",
    "x = filter( lambda x: x>=5 ,l )\n",
    "print(list(x))"
   ]
  },
  {
   "cell_type": "code",
   "execution_count": 20,
   "metadata": {},
   "outputs": [
    {
     "name": "stdout",
     "output_type": "stream",
     "text": [
      "[5, 6, 7]\n"
     ]
    }
   ],
   "source": [
    "l = [4,5,6,7]\n",
    "print(list(filter( lambda x: x>=5 ,l )))"
   ]
  },
  {
   "cell_type": "markdown",
   "metadata": {},
   "source": [
    "reduce()\n",
    "It applies some other function to a list that are passed as a parameter to it and finally return a single value.\n",
    "\n",
    "SYNTAX:\n",
    "\n",
    "reduce(function, iterables)"
   ]
  },
  {
   "cell_type": "code",
   "execution_count": 21,
   "metadata": {},
   "outputs": [
    {
     "name": "stdout",
     "output_type": "stream",
     "text": [
      "22\n"
     ]
    }
   ],
   "source": [
    "# reduce(function, iterables)\n",
    "from functools import reduce # its required here\n",
    "def abc(y,z):\n",
    "    return y+z\n",
    "# your code goes here1+5\n",
    "x = reduce(abc, [4,5,6,7])\n",
    "print(x)"
   ]
  },
  {
   "cell_type": "code",
   "execution_count": 22,
   "metadata": {},
   "outputs": [
    {
     "data": {
      "text/plain": [
       "22"
      ]
     },
     "execution_count": 22,
     "metadata": {},
     "output_type": "execute_result"
    }
   ],
   "source": [
    "# lets use reduce with lambda() now\n",
    "reduce( lambda a,b: a+b , [4,5,6,7] )"
   ]
  },
  {
   "cell_type": "code",
   "execution_count": 25,
   "metadata": {},
   "outputs": [
    {
     "name": "stdout",
     "output_type": "stream",
     "text": [
      "<map object at 0x00000250D889AE08>\n",
      "[10, 12, 14]\n"
     ]
    }
   ],
   "source": [
    "# filter within map\n",
    "y = map(lambda y: y+y,  filter(lambda y: y>=5., [4,5,6,7]))\n",
    "print(y)\n",
    "print(list(y))\n",
    "# print(tuple(y))"
   ]
  },
  {
   "cell_type": "code",
   "execution_count": 26,
   "metadata": {},
   "outputs": [
    {
     "name": "stdout",
     "output_type": "stream",
     "text": [
      "<filter object at 0x00000250D871A408>\n",
      "[9.0, 10.0, 11.0, 12.0]\n"
     ]
    }
   ],
   "source": [
    "# map within filter\n",
    "# try this\n",
    "x = filter(lambda x: x>=3,  map(lambda x: x+5., [4,5,6,7]))\n",
    "print(x)\n",
    "print(list(x))\n",
    "# print(tuple(x))"
   ]
  },
  {
   "cell_type": "code",
   "execution_count": 27,
   "metadata": {},
   "outputs": [
    {
     "name": "stdout",
     "output_type": "stream",
     "text": [
      "110\n"
     ]
    }
   ],
   "source": [
    "# map and filter within reduce\n",
    "x = reduce(lambda x,y: x+y,  map(lambda x:x*x, filter(lambda x: x>=5, (4,5,6,7))))\n",
    "print(x)"
   ]
  },
  {
   "cell_type": "markdown",
   "metadata": {},
   "source": [
    "2. Recreate your own Python NB for “Classes and Objects” from the pdf provided namely\n",
    "“Classes&Objects.pdf”"
   ]
  },
  {
   "cell_type": "markdown",
   "metadata": {},
   "source": [
    "Creating Class"
   ]
  },
  {
   "cell_type": "markdown",
   "metadata": {},
   "source": [
    "class ClassName:\n",
    "   'Optional class documentation string'\n",
    "   class_suite"
   ]
  },
  {
   "cell_type": "markdown",
   "metadata": {},
   "source": [
    "Following is the example of a simple Python class "
   ]
  },
  {
   "cell_type": "markdown",
   "metadata": {},
   "source": [
    "class Employee:\n",
    "   'Common base class for all employees'\n",
    "   empCount = 0\n",
    "\n",
    "   def __init__(self, name, salary):\n",
    "      self.name = name\n",
    "      self.salary = salary\n",
    "      Employee.empCount += 1\n",
    "   \n",
    "   def displayCount(self):\n",
    "     print \"Total Employee %d\" % Employee.empCount\n",
    "\n",
    "   def displayEmployee(self):\n",
    "      print \"Name : \", self.name,  \", Salary: \", self.salary"
   ]
  },
  {
   "cell_type": "markdown",
   "metadata": {},
   "source": [
    "Creating Instance Objects"
   ]
  },
  {
   "cell_type": "markdown",
   "metadata": {},
   "source": [
    "\"This would create first object of Employee class\"\n",
    "emp1 = Employee(\"Darshan\", 3000)\n",
    "\"This would create second object of Employee class\"\n",
    "emp2 = Employee(\"Manoj\", 6000)"
   ]
  },
  {
   "cell_type": "code",
   "execution_count": null,
   "metadata": {},
   "outputs": [],
   "source": [
    "Accessing Attributes"
   ]
  },
  {
   "cell_type": "markdown",
   "metadata": {},
   "source": [
    "emp1.displayEmployee()\n",
    "emp2.displayEmployee()\n",
    "print \"Total Employee %d\" % Employee.empCount"
   ]
  },
  {
   "cell_type": "markdown",
   "metadata": {},
   "source": [
    "Putting it all together"
   ]
  },
  {
   "cell_type": "code",
   "execution_count": 30,
   "metadata": {},
   "outputs": [
    {
     "name": "stdout",
     "output_type": "stream",
     "text": [
      "Name :  Darshan , Salary:  3000\n",
      "Name :  Manoj , Salary:  6000\n",
      "Total Employee 2\n"
     ]
    }
   ],
   "source": [
    "class Employee:\n",
    "   'Common base class for all employees'\n",
    "   empCount = 0\n",
    "\n",
    "   def __init__(self, name, salary):\n",
    "      self.name = name\n",
    "      self.salary = salary\n",
    "      Employee.empCount += 1\n",
    "   \n",
    "   def displayCount(self):\n",
    "     print (\"Total Employee %d\" % Employee.empCount)\n",
    "\n",
    "   def displayEmployee(self):\n",
    "      print (\"Name : \", self.name,  \", Salary: \", self.salary)\n",
    "\n",
    "\"This would create first object of Employee class\"\n",
    "emp1 = Employee(\"Darshan\", 3000)\n",
    "\"This would create second object of Employee class\"\n",
    "emp2 = Employee(\"Manoj\", 6000)\n",
    "emp1.displayEmployee()\n",
    "emp2.displayEmployee()\n",
    "print (\"Total Employee %d\" % Employee.empCount)"
   ]
  },
  {
   "cell_type": "markdown",
   "metadata": {},
   "source": [
    "We can add, remove, or modify attributes of classes and objects at any time"
   ]
  },
  {
   "cell_type": "code",
   "execution_count": 31,
   "metadata": {},
   "outputs": [],
   "source": [
    "emp1.age = 7  # Add an 'age' attribute.\n",
    "emp1.age = 8  # Modify 'age' attribute.\n",
    "del emp1.age  # Delete 'age' attribute."
   ]
  },
  {
   "cell_type": "markdown",
   "metadata": {},
   "source": [
    "Instead of using the normal statements to access attributes, we can use the following functions −\n",
    "\n",
    "The getattr(obj, name[, default]) − to access the attribute of object.\n",
    "\n",
    "The hasattr(obj,name) − to check if an attribute exists or not.\n",
    "\n",
    "The setattr(obj,name,value) − to set an attribute. If attribute does not exist, then it would be created.\n",
    "\n",
    "The delattr(obj, name) − to delete an attribute."
   ]
  },
  {
   "cell_type": "markdown",
   "metadata": {},
   "source": [
    "hasattr(emp1, 'age')    # Returns true if 'age' attribute exists\n",
    "getattr(emp1, 'age')    # Returns value of 'age' attribute\n",
    "setattr(emp1, 'age', 8) # Set attribute 'age' at 8\n",
    "delattr(empl, 'age')    # Delete attribute 'age'"
   ]
  },
  {
   "cell_type": "markdown",
   "metadata": {},
   "source": [
    "Built-In Class Attributes\n",
    "\n",
    "__dict__ − Dictionary containing the class's namespace.\n",
    "\n",
    "__doc__ − Class documentation string or none, if undefined.\n",
    "\n",
    "__name__ − Class name.\n",
    "\n",
    "__module__ − Module name in which the class is defined. This attribute is \"__main__\" in interactive mode.\n",
    "\n",
    "__bases__ − A possibly empty tuple containing the base classes, in the order of their occurrence in the base class list."
   ]
  },
  {
   "cell_type": "code",
   "execution_count": 33,
   "metadata": {},
   "outputs": [
    {
     "name": "stdout",
     "output_type": "stream",
     "text": [
      "Employee.__doc__: Common base class for all employees\n",
      "Employee.__name__: Employee\n",
      "Employee.__module__: __main__\n",
      "Employee.__bases__: (<class 'object'>,)\n",
      "Employee.__dict__: {'__module__': '__main__', '__doc__': 'Common base class for all employees', 'empCount': 0, '__init__': <function Employee.__init__ at 0x00000250D88E0948>, 'displayCount': <function Employee.displayCount at 0x00000250D88E0288>, 'displayEmployee': <function Employee.displayEmployee at 0x00000250D88E0828>, '__dict__': <attribute '__dict__' of 'Employee' objects>, '__weakref__': <attribute '__weakref__' of 'Employee' objects>}\n"
     ]
    }
   ],
   "source": [
    "class Employee:\n",
    "   'Common base class for all employees'\n",
    "   empCount = 0\n",
    "\n",
    "   def __init__(self, name, salary):\n",
    "      self.name = name\n",
    "      self.salary = salary\n",
    "      Employee.empCount += 1\n",
    "   \n",
    "   def displayCount(self):\n",
    "     print (\"Total Employee %d\" % Employee.empCount)\n",
    "\n",
    "   def displayEmployee(self):\n",
    "     print (\"Name : \", self.name,  \", Salary: \", self.salary)\n",
    "\n",
    "print (\"Employee.__doc__:\", Employee.__doc__)\n",
    "print (\"Employee.__name__:\", Employee.__name__)\n",
    "print (\"Employee.__module__:\", Employee.__module__)\n",
    "print (\"Employee.__bases__:\", Employee.__bases__)\n",
    "print (\"Employee.__dict__:\", Employee.__dict__)"
   ]
  },
  {
   "cell_type": "markdown",
   "metadata": {},
   "source": [
    "Destroying Objects (Garbage Collection)\n",
    "\n",
    "We normally will not notice when the garbage collector destroys an orphaned instance and reclaims its space. But a class can implement the special method __del__(), called a destructor, that is invoked when the instance is about to be destroyed. This method might be used to clean up any non memory resources used by an instance.\n"
   ]
  },
  {
   "cell_type": "code",
   "execution_count": 35,
   "metadata": {},
   "outputs": [
    {
     "name": "stdout",
     "output_type": "stream",
     "text": [
      "2546253789320 2546253789320 2546253789320\n",
      "Point destroyed\n"
     ]
    }
   ],
   "source": [
    "class Point:\n",
    "   def __init__( self, x=0, y=0):\n",
    "      self.x = x\n",
    "      self.y = y\n",
    "   def __del__(self):\n",
    "      class_name = self.__class__.__name__\n",
    "      print (class_name, \"destroyed\")\n",
    "\n",
    "pt1 = Point()\n",
    "pt2 = pt1\n",
    "pt3 = pt1\n",
    "print (id(pt1), id(pt2), id(pt3)) # prints the ids of the obejcts\n",
    "del pt1\n",
    "del pt2\n",
    "del pt3"
   ]
  },
  {
   "cell_type": "markdown",
   "metadata": {},
   "source": [
    "## Class Inheritance"
   ]
  },
  {
   "cell_type": "markdown",
   "metadata": {},
   "source": [
    "Syntax\n",
    "\n",
    "class SubClassName (ParentClass1[, ParentClass2, ...]):\n",
    "   'Optional class documentation string'\n",
    "   class_suite"
   ]
  },
  {
   "cell_type": "code",
   "execution_count": 36,
   "metadata": {},
   "outputs": [
    {
     "name": "stdout",
     "output_type": "stream",
     "text": [
      "Calling child constructor\n",
      "Calling child method\n",
      "Calling parent method\n",
      "Parent attribute : 200\n"
     ]
    }
   ],
   "source": [
    "class Parent:        # define parent class\n",
    "   parentAttr = 100\n",
    "   def __init__(self):\n",
    "      print (\"Calling parent constructor\")\n",
    "\n",
    "   def parentMethod(self):\n",
    "      print ('Calling parent method')\n",
    "\n",
    "   def setAttr(self, attr):\n",
    "      Parent.parentAttr = attr\n",
    "\n",
    "   def getAttr(self):\n",
    "      print (\"Parent attribute :\", Parent.parentAttr)\n",
    "\n",
    "class Child(Parent): # define child class\n",
    "   def __init__(self):\n",
    "      print (\"Calling child constructor\")\n",
    "\n",
    "   def childMethod(self):\n",
    "      print ('Calling child method')\n",
    "\n",
    "c = Child()          # instance of child\n",
    "c.childMethod()      # child calls its method\n",
    "c.parentMethod()     # calls parent's method\n",
    "c.setAttr(200)       # again call parent's method\n",
    "c.getAttr()          # again call parent's method"
   ]
  },
  {
   "cell_type": "markdown",
   "metadata": {},
   "source": [
    "Similar way, you can drive a class from multiple parent classes as follows\n",
    "\n",
    "class A:        # define your class A\n",
    ".....\n",
    "\n",
    "class B:         # define your class B\n",
    ".....\n",
    "\n",
    "class C(A, B):   # subclass of A and B\n",
    "....."
   ]
  },
  {
   "cell_type": "markdown",
   "metadata": {},
   "source": [
    "We can use issubclass() or isinstance() functions to check a relationships of two classes and instances.\n",
    "\n",
    "The issubclass(sub, sup) boolean function returns true if the given subclass sub is indeed a subclass of the superclass sup.\n",
    "\n",
    "The isinstance(obj, Class) boolean function returns true if obj is an instance of class Class or is an instance of a subclass of Class"
   ]
  },
  {
   "cell_type": "code",
   "execution_count": 37,
   "metadata": {},
   "outputs": [
    {
     "name": "stdout",
     "output_type": "stream",
     "text": [
      "Calling child method\n"
     ]
    }
   ],
   "source": [
    "class Parent:        # define parent class\n",
    "   def myMethod(self):\n",
    "      print ('Calling parent method')\n",
    "\n",
    "class Child(Parent): # define child class\n",
    "   def myMethod(self):\n",
    "      print ('Calling child method')\n",
    "\n",
    "c = Child()          # instance of child\n",
    "c.myMethod()         # child calls overridden method"
   ]
  },
  {
   "cell_type": "markdown",
   "metadata": {},
   "source": [
    "Base Overloading Methods\n",
    "\n",
    "1.__init__ ( self [,args...] )\n",
    "\n",
    "Constructor (with any optional arguments)\n",
    "\n",
    "Sample Call : obj = className(args)\n",
    "\n",
    "2.__del__( self )\n",
    "\n",
    "Destructor, deletes an object\n",
    "\n",
    "Sample Call : del obj\n",
    "\n",
    "3.__repr__( self )\n",
    "\n",
    "Evaluable string representation\n",
    "\n",
    "Sample Call : repr(obj)\n",
    "\n",
    "4.__str__( self )\n",
    "\n",
    "Printable string representation\n",
    "\n",
    "Sample Call : str(obj)\n",
    "\n",
    "5.__cmp__ ( self, x )\n",
    "\n",
    "Object comparison\n",
    "\n",
    "Sample Call : cmp(obj, x)"
   ]
  },
  {
   "cell_type": "code",
   "execution_count": 38,
   "metadata": {},
   "outputs": [
    {
     "name": "stdout",
     "output_type": "stream",
     "text": [
      "Vector (12, 3)\n"
     ]
    }
   ],
   "source": [
    "class Vector:\n",
    "   def __init__(self, a, b):\n",
    "      self.a = a\n",
    "      self.b = b\n",
    "\n",
    "   def __str__(self):\n",
    "      return ('Vector (%d, %d)' % (self.a, self.b))\n",
    "   \n",
    "   def __add__(self,other):\n",
    "      return (Vector(self.a + other.a, self.b + other.b))\n",
    "\n",
    "v1 = Vector(2,7)\n",
    "v2 = Vector(10,-4)\n",
    "print (v1 + v2)"
   ]
  },
  {
   "cell_type": "markdown",
   "metadata": {},
   "source": [
    "Data Hiding"
   ]
  },
  {
   "cell_type": "code",
   "execution_count": 39,
   "metadata": {},
   "outputs": [
    {
     "name": "stdout",
     "output_type": "stream",
     "text": [
      "1\n",
      "2\n",
      "2\n"
     ]
    }
   ],
   "source": [
    "class JustCounter:\n",
    "   __secretCount = 0\n",
    "  \n",
    "   def count(self):\n",
    "      self.__secretCount += 1\n",
    "      print (self.__secretCount)\n",
    "\n",
    "counter = JustCounter()\n",
    "counter.count()\n",
    "counter.count()\n",
    "print(counter._JustCounter__secretCount)"
   ]
  },
  {
   "cell_type": "code",
   "execution_count": null,
   "metadata": {},
   "outputs": [],
   "source": []
  }
 ],
 "metadata": {
  "kernelspec": {
   "display_name": "Python 3",
   "language": "python",
   "name": "python3"
  },
  "language_info": {
   "codemirror_mode": {
    "name": "ipython",
    "version": 3
   },
   "file_extension": ".py",
   "mimetype": "text/x-python",
   "name": "python",
   "nbconvert_exporter": "python",
   "pygments_lexer": "ipython3",
   "version": "3.7.6"
  }
 },
 "nbformat": 4,
 "nbformat_minor": 4
}
